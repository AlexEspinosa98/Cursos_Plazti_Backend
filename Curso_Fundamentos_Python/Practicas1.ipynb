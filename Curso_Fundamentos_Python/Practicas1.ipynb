{
 "cells": [
  {
   "cell_type": "code",
   "execution_count": 3,
   "metadata": {},
   "outputs": [
    {
     "name": "stdout",
     "output_type": "stream",
     "text": [
      "Hola, esto es python\n",
      " Suma 12+5 = 17\n",
      " Resta 10-6 = 5\n",
      " multiplicación 2*3 = 6\n",
      " División 8/2 = 4.0\n"
     ]
    }
   ],
   "source": [
    "# Primera salida de python\n",
    "\n",
    "print(\"Hola, esto es python\")\n",
    "\n",
    "# Utilizamos parámetros de operaciónes\n",
    "\n",
    "#Summa\n",
    "print(f\" Suma 12+5 = {12+5}\")\n",
    "# Resta\n",
    "print(f\" Resta 10-6 = {10-5}\")\n",
    "\n",
    "#Multiplicación\n",
    "print(f\" multiplicación 2*3 = {2*3}\")\n",
    "\n",
    "#división\n",
    "print(f\" División 8/2 = {8/2}\")"
   ]
  },
  {
   "cell_type": "code",
   "execution_count": 4,
   "metadata": {},
   "outputs": [
    {
     "name": "stdout",
     "output_type": "stream",
     "text": [
      "alexander\n",
      "25\n",
      "Hola me llamo  alexander\n"
     ]
    }
   ],
   "source": [
    "#Clase Variables\n",
    "\n",
    "# Variable string\n",
    "my_name= \"alexander\"\n",
    "print(my_name)\n",
    "\n",
    "# Variable númerica\n",
    "My_age= 25\n",
    "print(My_age)\n",
    "\n",
    "#combinación de datos y variables\n",
    "print(\"Hola me llamo \",my_name)\n",
    "\n",
    "#entrada de datos: NOTA: En colab no se puede obtener input\n",
    "\n",
    "#entrada=input(\"Dame una palabra\")\n",
    "#print(\"Tu palabra digitada es \",entrada)\n",
    "\n",
    "#NOTA 2. En formatos como jupyter se debe utilizar el comando \n",
    "# raw_input(\"texto\") (Solo funciona en python 2)\n",
    "\n",
    "\n",
    "\n"
   ]
  },
  {
   "cell_type": "code",
   "execution_count": 4,
   "metadata": {},
   "outputs": [
    {
     "name": "stdout",
     "output_type": "stream",
     "text": [
      "hola\n",
      "cComo estas\n",
      "Hola's \n",
      "\"Hola como sera\"\n",
      "Hola, esta es una prueba \"Hola como sera\" de llaves con apostrofe\n"
     ]
    }
   ],
   "source": [
    "# Clase de cadenas de texto\n",
    "# Creando variables en texto\n",
    "x=\"hola\"\n",
    "x_2=\"cComo estas\"\n",
    "# Primero imprimimos las variables independientes\n",
    "print(x)\n",
    "print(x_2)\n",
    "\n",
    "# Aprendiendo a usar comillas en salidas\n",
    "Apostrofe=\"Hola's \"\n",
    "\n",
    "print(Apostrofe)\n",
    "\n",
    "Apostrofe2='\"Hola como sera\"'\n",
    "\n",
    "print(Apostrofe2)\n",
    "\n",
    "# Hahcineod salida con llaves para variables\n",
    "\n",
    "frase_llaves=\"Hola, esta es una prueba {} de llaves con apostrofe\".format(Apostrofe2)\n",
    "print(frase_llaves)"
   ]
  },
  {
   "cell_type": "code",
   "execution_count": 7,
   "metadata": {},
   "outputs": [
    {
     "name": "stdout",
     "output_type": "stream",
     "text": [
      "<class 'str'>\n",
      "<class 'int'>\n",
      "Mi edad es 24\n"
     ]
    }
   ],
   "source": [
    "#Transformación de datos\n",
    "\n",
    "name= \"Alexander\"\n",
    "print(type(name))\n",
    "name= 12\n",
    "print(type(name))\n",
    "\n",
    "age=24\n",
    "print(\"Mi edad es \"+ str(age))"
   ]
  },
  {
   "cell_type": "code",
   "execution_count": 15,
   "metadata": {},
   "outputs": [
    {
     "name": "stdout",
     "output_type": "stream",
     "text": [
      "True\n",
      "Espacios frase 1 : 19\n",
      "Espacios frase 2 : 17\n",
      "RETOMANDO LO BASICO EN PYTHON\n",
      "Retomando lo basico en python\n",
      "Retomando Lo Basico En Python\n"
     ]
    }
   ],
   "source": [
    "# Probando stirng recargado\n",
    "\n",
    "# Creamos una cadena string de texto\n",
    "texto=\"Retomando lo basico en python\"\n",
    "#Se busca la palabra con el comando in dentro del string\n",
    "print(\"python\" in texto)\n",
    "\n",
    "# Hacemos pruebas con diferentes espacios\n",
    "tam = len(\"contando espacios  \")\n",
    "print(f\"Espacios frase 1 : {tam}\")\n",
    "\n",
    "#   Pruena sin espacios\n",
    "tam = len(\"contando espacios\")\n",
    "print(f\"Espacios frase 2 : {tam}\")\n",
    "\n",
    "# Colocando en mayusculas\n",
    "print(texto.upper())\n",
    "#Colocando primer caracter en mayuscula\n",
    "print(texto.capitalize())\n",
    "# Colocando cada letra del texto en mayuscula\n",
    "print(texto.title())"
   ]
  },
  {
   "cell_type": "code",
   "execution_count": null,
   "metadata": {},
   "outputs": [],
   "source": [
    "# Repasando listas\n",
    "\n"
   ]
  }
 ],
 "metadata": {
  "kernelspec": {
   "display_name": "Python 3",
   "language": "python",
   "name": "python3"
  },
  "language_info": {
   "codemirror_mode": {
    "name": "ipython",
    "version": 3
   },
   "file_extension": ".py",
   "mimetype": "text/x-python",
   "name": "python",
   "nbconvert_exporter": "python",
   "pygments_lexer": "ipython3",
   "version": "3.10.10"
  },
  "orig_nbformat": 4,
  "vscode": {
   "interpreter": {
    "hash": "c013a5ced89948058f083ff8f14537b7889448cc2ce05a1f0b96cfb45cff96a7"
   }
  }
 },
 "nbformat": 4,
 "nbformat_minor": 2
}
