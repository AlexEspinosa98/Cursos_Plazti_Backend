{
 "cells": [
  {
   "cell_type": "code",
   "execution_count": 7,
   "metadata": {},
   "outputs": [
    {
     "name": "stdout",
     "output_type": "stream",
     "text": [
      "{'bol', 'col', 'mex'}\n",
      "{'o', 'l', 'h', 'a'}\n",
      "{'abd', 'as', 'cbv'}\n"
     ]
    }
   ],
   "source": [
    "#Estudiando conjuntos\n",
    "# En estos no se peude repetir datos ni modificar el conjuntos\n",
    "\n",
    "sele_paises={\"col\",\"mex\",\"bol\",\"bol\",\"mex\",\"mex\"}\n",
    "print(sele_paises)\n",
    "\n",
    "#Creando un set apartir de una string\n",
    "set_de_string=set(\"holao\")\n",
    "print(set_de_string)\n",
    "\n",
    "#Podemos obtener un set desde una tupla y lista\n",
    "set_de_tupla=set(('abd','cbv','as','abd'))\n",
    "print(set_de_tupla)"
   ]
  },
  {
   "cell_type": "code",
   "execution_count": 1,
   "metadata": {},
   "outputs": [
    {
     "ename": "NameError",
     "evalue": "name 'sele_paises' is not defined",
     "output_type": "error",
     "traceback": [
      "\u001b[1;31m---------------------------------------------------------------------------\u001b[0m",
      "\u001b[1;31mNameError\u001b[0m                                 Traceback (most recent call last)",
      "Cell \u001b[1;32mIn[1], line 2\u001b[0m\n\u001b[0;32m      1\u001b[0m \u001b[39m# Podemos obtener el tam de los conjuntos por medio de la función len\u001b[39;00m\n\u001b[1;32m----> 2\u001b[0m \u001b[39mprint\u001b[39m(\u001b[39mlen\u001b[39m(sele_paises))\n\u001b[0;32m      4\u001b[0m \u001b[39m# De igual manera se puede usar la función in y podemos adicionar son set.add()\u001b[39;00m\n\u001b[0;32m      5\u001b[0m sele_paises2\u001b[39m=\u001b[39m{\u001b[39m\"\u001b[39m\u001b[39mcol\u001b[39m\u001b[39m\"\u001b[39m,\u001b[39m\"\u001b[39m\u001b[39mmex\u001b[39m\u001b[39m\"\u001b[39m,\u001b[39m\"\u001b[39m\u001b[39mbol\u001b[39m\u001b[39m\"\u001b[39m,\u001b[39m\"\u001b[39m\u001b[39mbol\u001b[39m\u001b[39m\"\u001b[39m,\u001b[39m\"\u001b[39m\u001b[39mmex\u001b[39m\u001b[39m\"\u001b[39m,\u001b[39m\"\u001b[39m\u001b[39mmex\u001b[39m\u001b[39m\"\u001b[39m}\n",
      "\u001b[1;31mNameError\u001b[0m: name 'sele_paises' is not defined"
     ]
    }
   ],
   "source": [
    "# Podemos obtener el tam de los conjuntos por medio de la función len\n",
    "print(len(sele_paises))\n",
    "\n",
    "# De igual manera se puede usar la función in y podemos adicionar son set.add()\n",
    "sele_paises2={\"col\",\"mex\",\"bol\",\"bol\",\"mex\",\"mex\"}\n",
    "\n",
    "sele_paises2.add(\"Russ\")\n",
    "print(sele_paises2)\n",
    "\n",
    "# Para eliminar tendriamos remove\n",
    "# Tenemos operaciones de conjuntos como set.union(segundo_set)\n",
    "# De igual manera podemos utilizar operaciones booleaneas\n",
    "\n",
    "\n",
    "\n"
   ]
  },
  {
   "cell_type": "code",
   "execution_count": 3,
   "metadata": {},
   "outputs": [
    {
     "name": "stdout",
     "output_type": "stream",
     "text": [
      "['col', 'mex', 'bol']\n"
     ]
    }
   ],
   "source": [
    "# haciendo dirección de comprenhesion\n",
    "# para listas\n",
    "\n",
    "sele_paises2={\"col\",\"mex\",\"bol\",\"bol\",\"mex\",\"mex\"}\n",
    "\n",
    "lista =[lis for lis in sele_paises2 ]\n",
    "print(lista)\n",
    "# Esto tambien se puede usar tambien con los diccionarios"
   ]
  },
  {
   "cell_type": "code",
   "execution_count": null,
   "metadata": {},
   "outputs": [],
   "source": []
  }
 ],
 "metadata": {
  "kernelspec": {
   "display_name": "Python 3",
   "language": "python",
   "name": "python3"
  },
  "language_info": {
   "codemirror_mode": {
    "name": "ipython",
    "version": 3
   },
   "file_extension": ".py",
   "mimetype": "text/x-python",
   "name": "python",
   "nbconvert_exporter": "python",
   "pygments_lexer": "ipython3",
   "version": "3.10.8"
  },
  "orig_nbformat": 4,
  "vscode": {
   "interpreter": {
    "hash": "99b0c8fb3b85c94da0decce8cda966e2c1824e7d5c8558adb1f626948798b4ab"
   }
  }
 },
 "nbformat": 4,
 "nbformat_minor": 2
}
