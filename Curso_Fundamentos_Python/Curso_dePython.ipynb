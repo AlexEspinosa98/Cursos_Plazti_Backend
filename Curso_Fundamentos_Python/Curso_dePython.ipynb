{
 "cells": [
  {
   "cell_type": "code",
   "execution_count": 7,
   "metadata": {},
   "outputs": [
    {
     "name": "stdout",
     "output_type": "stream",
     "text": [
      "{'bol', 'col', 'mex'}\n",
      "{'o', 'l', 'h', 'a'}\n",
      "{'abd', 'as', 'cbv'}\n"
     ]
    }
   ],
   "source": [
    "#Estudiando conjuntos\n",
    "# En estos no se peude repetir datos ni modificar el conjuntos\n",
    "\n",
    "sele_paises={\"col\",\"mex\",\"bol\",\"bol\",\"mex\",\"mex\"}\n",
    "print(sele_paises)\n",
    "\n",
    "#Creando un set apartir de una string\n",
    "set_de_string=set(\"holao\")\n",
    "print(set_de_string)\n",
    "\n",
    "#Podemos obtener un set desde una tupla y lista\n",
    "set_de_tupla=set(('abd','cbv','as','abd'))\n",
    "print(set_de_tupla)"
   ]
  },
  {
   "cell_type": "code",
   "execution_count": 9,
   "metadata": {},
   "outputs": [
    {
     "name": "stdout",
     "output_type": "stream",
     "text": [
      "3\n",
      "{'Russ', 'bol', 'col', 'mex'}\n"
     ]
    }
   ],
   "source": [
    "# Podemos obtener el tam de los conjuntos por medio de la función len\n",
    "print(len(sele_paises))\n",
    "\n",
    "# De igual manera se puede usar la función in y podemos adicionar son set.add()\n",
    "sele_paises2={\"col\",\"mex\",\"bol\",\"bol\",\"mex\",\"mex\"}\n",
    "\n",
    "sele_paises2.add(\"Russ\")\n",
    "print(sele_paises2)\n",
    "\n",
    "# Para eliminar tendriamos remove\n",
    "# Tenemos operaciones de conjuntos como set.union(segundo_set)\n",
    "# De igual manera podemos utilizar operaciones booleaneas\n",
    "\n",
    "\n",
    "\n"
   ]
  },
  {
   "cell_type": "code",
   "execution_count": null,
   "metadata": {},
   "outputs": [],
   "source": []
  }
 ],
 "metadata": {
  "kernelspec": {
   "display_name": "Python 3",
   "language": "python",
   "name": "python3"
  },
  "language_info": {
   "codemirror_mode": {
    "name": "ipython",
    "version": 3
   },
   "file_extension": ".py",
   "mimetype": "text/x-python",
   "name": "python",
   "nbconvert_exporter": "python",
   "pygments_lexer": "ipython3",
   "version": "3.10.10"
  },
  "orig_nbformat": 4,
  "vscode": {
   "interpreter": {
    "hash": "c013a5ced89948058f083ff8f14537b7889448cc2ce05a1f0b96cfb45cff96a7"
   }
  }
 },
 "nbformat": 4,
 "nbformat_minor": 2
}
