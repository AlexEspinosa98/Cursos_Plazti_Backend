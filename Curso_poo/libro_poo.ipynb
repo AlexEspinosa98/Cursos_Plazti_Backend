{
 "cells": [
  {
   "cell_type": "code",
   "execution_count": 1,
   "metadata": {},
   "outputs": [
    {
     "name": "stdout",
     "output_type": "stream",
     "text": [
      "Hola erika, me llamo david\n"
     ]
    }
   ],
   "source": [
    "# Creación de clases\n",
    "\n",
    "class Persona:\n",
    "    def __init__(self,nombre,edad):\n",
    "        self.nombre = nombre\n",
    "        self.edad = edad\n",
    "    \n",
    "    def saluda (self, otra_persona):\n",
    "        return f'Hola {otra_persona.nombre}, me llamo {self.nombre}'\n",
    "    \n",
    "\n",
    "if __name__ == \"__main__\":\n",
    "    david=Persona(\"david\",25)\n",
    "    erica=Persona(\"erika\",32)\n",
    "\n",
    "    print(david.saluda(erica))"
   ]
  },
  {
   "cell_type": "code",
   "execution_count": null,
   "metadata": {},
   "outputs": [],
   "source": [
    "class Automovil:\n",
    "    def __init__(self,modelo,marca,color):\n",
    "        self.modelo = modelo\n",
    "        self.marca = marca\n",
    "        self.color = color\n",
    "        self._estado= 'En_reposo'\n",
    "        self._motor=Motor(cilindros=4)\n",
    "    \n",
    "    def acelrar (self,tipo='despacio'):\n",
    "        if tipo =='rapida':\n",
    "            self._motor.inyecta_gasolina(10)\n",
    "        else:\n",
    "            self._motor.inyecta_gasolina(3)\n",
    "        self.estado='movimiento'\n",
    "\n",
    "class Motor:\n",
    "    def __init__(self,cilindros, tipo='gasolina'):\n",
    "        self.cilindros = cilindros\n",
    "        self.tipo = tipo\n",
    "        self._temepratura =0\n",
    "\n",
    "    def inyecta_gasolina(self,cantdad):\n",
    "        pass\n"
   ]
  },
  {
   "attachments": {},
   "cell_type": "markdown",
   "metadata": {},
   "source": [
    "# Funciones privadas"
   ]
  },
  {
   "cell_type": "code",
   "execution_count": 25,
   "metadata": {},
   "outputs": [
    {
     "name": "stdout",
     "output_type": "stream",
     "text": [
      "El total es 15000\n"
     ]
    },
    {
     "ename": "AttributeError",
     "evalue": "'comida' object has no attribute '__total'",
     "output_type": "error",
     "traceback": [
      "\u001b[1;31m---------------------------------------------------------------------------\u001b[0m",
      "\u001b[1;31mAttributeError\u001b[0m                            Traceback (most recent call last)",
      "Cell \u001b[1;32mIn[25], line 17\u001b[0m\n\u001b[0;32m     14\u001b[0m \u001b[39mif\u001b[39;00m \u001b[39m__name__\u001b[39m\u001b[39m==\u001b[39m\u001b[39m\"\u001b[39m\u001b[39m__main__\u001b[39m\u001b[39m\"\u001b[39m:\n\u001b[0;32m     15\u001b[0m     carne\u001b[39m=\u001b[39mcomida(\u001b[39m\"\u001b[39m\u001b[39mbistec\u001b[39m\u001b[39m\"\u001b[39m,\u001b[39m5000\u001b[39m,\u001b[39m3\u001b[39m)\n\u001b[1;32m---> 17\u001b[0m     \u001b[39mprint\u001b[39m(carne\u001b[39m.\u001b[39;49m__total)\n",
      "\u001b[1;31mAttributeError\u001b[0m: 'comida' object has no attribute '__total'"
     ]
    }
   ],
   "source": [
    "class comida:\n",
    "\n",
    "    def __init__(self,plato,precio,cantidad):\n",
    "        self.plato=plato\n",
    "        self.precio=precio\n",
    "        self.cantidad=cantidad\n",
    "        self.__total=comida._precio_total(self)\n",
    "\n",
    "    def _precio_total(self):\n",
    "        self.total=self.precio*self.cantidad\n",
    "        print(f\"El total es {self.total}\")\n",
    "        return self.total\n",
    "\n",
    "if __name__==\"__main__\":\n",
    "    carne=comida(\"bistec\",5000,3)\n",
    "\n",
    "    print(carne.__total) # esta variable da error porque al ser __ "
   ]
  },
  {
   "attachments": {},
   "cell_type": "markdown",
   "metadata": {},
   "source": [
    "### Función decoradora"
   ]
  },
  {
   "cell_type": "code",
   "execution_count": 16,
   "metadata": {},
   "outputs": [
    {
     "name": "stdout",
     "output_type": "stream",
     "text": [
      "Este es el último mensaje...\n",
      "Buzzzzzz\n",
      "Este es el primer mensaje ;)\n"
     ]
    }
   ],
   "source": [
    "def funcion_decoradora(funcion):\n",
    "\tdef wrapper():\n",
    "\t\tprint(\"Este es el último mensaje...\")\n",
    "\t\tfuncion()\n",
    "\t\tprint(\"Este es el primer mensaje ;)\")\n",
    "\treturn wrapper\n",
    "\n",
    "def zumbido():\n",
    "\tprint(\"Buzzzzzz\")\n",
    "\n",
    "zumbido = funcion_decoradora(zumbido)\n",
    "\n",
    "zumbido()"
   ]
  },
  {
   "attachments": {},
   "cell_type": "markdown",
   "metadata": {},
   "source": [
    "### Probando encapsulación"
   ]
  },
  {
   "cell_type": "code",
   "execution_count": null,
   "metadata": {},
   "outputs": [],
   "source": [
    "class CasillaDeVotacion:\n",
    "    \n",
    "    def __init__(self, identificador, pais):\n",
    "        self._identificador = identificador\n",
    "        self._pais = pais\n",
    "        self._region = None\n",
    "\n",
    "    @property\n",
    "    def region(self):\n",
    "        return self._region\n",
    "\n",
    "    @region.setter\n",
    "    def region(self, region):\n",
    "        if region in self._pais:\n",
    "            self._region = region\n",
    "        else:\n",
    "            raise ValueError(f'La region {region} no esta en la lista')\n",
    "\n",
    "\n",
    "casilla = CasillaDeVotacion(123,['Mexico','Morelos'])\n",
    "print(casilla.region)\n",
    "casilla.region = 'Mexico'\n",
    "print(casilla.region)"
   ]
  }
 ],
 "metadata": {
  "kernelspec": {
   "display_name": "venv",
   "language": "python",
   "name": "python3"
  },
  "language_info": {
   "codemirror_mode": {
    "name": "ipython",
    "version": 3
   },
   "file_extension": ".py",
   "mimetype": "text/x-python",
   "name": "python",
   "nbconvert_exporter": "python",
   "pygments_lexer": "ipython3",
   "version": "3.10.8"
  },
  "orig_nbformat": 4,
  "vscode": {
   "interpreter": {
    "hash": "6363e5a86d7a64221fc2e0cdd504bbb80fec0a891e9dc79168b2e466ade8f1bc"
   }
  }
 },
 "nbformat": 4,
 "nbformat_minor": 2
}
