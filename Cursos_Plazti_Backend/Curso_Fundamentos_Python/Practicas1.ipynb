{
 "cells": [
  {
   "cell_type": "code",
   "execution_count": 3,
   "metadata": {},
   "outputs": [
    {
     "name": "stdout",
     "output_type": "stream",
     "text": [
      "Hola, esto es python\n",
      " Suma 12+5 = 17\n",
      " Resta 10-6 = 5\n",
      " multiplicación 2*3 = 6\n",
      " División 8/2 = 4.0\n"
     ]
    }
   ],
   "source": [
    "# Primera salida de python\n",
    "\n",
    "print(\"Hola, esto es python\")\n",
    "\n",
    "# Utilizamos parámetros de operaciónes\n",
    "\n",
    "#Summa\n",
    "print(f\" Suma 12+5 = {12+5}\")\n",
    "# Resta\n",
    "print(f\" Resta 10-6 = {10-5}\")\n",
    "\n",
    "#Multiplicación\n",
    "print(f\" multiplicación 2*3 = {2*3}\")\n",
    "\n",
    "#división\n",
    "print(f\" División 8/2 = {8/2}\")"
   ]
  },
  {
   "cell_type": "code",
   "execution_count": 4,
   "metadata": {},
   "outputs": [
    {
     "name": "stdout",
     "output_type": "stream",
     "text": [
      "alexander\n",
      "25\n",
      "Hola me llamo  alexander\n"
     ]
    }
   ],
   "source": [
    "#Clase Variables\n",
    "\n",
    "# Variable string\n",
    "my_name= \"alexander\"\n",
    "print(my_name)\n",
    "\n",
    "# Variable númerica\n",
    "My_age= 25\n",
    "print(My_age)\n",
    "\n",
    "#combinación de datos y variables\n",
    "print(\"Hola me llamo \",my_name)\n",
    "\n",
    "#entrada de datos: NOTA: En colab no se puede obtener input\n",
    "\n",
    "#entrada=input(\"Dame una palabra\")\n",
    "#print(\"Tu palabra digitada es \",entrada)\n",
    "\n",
    "#NOTA 2. En formatos como jupyter se debe utilizar el comando \n",
    "# raw_input(\"texto\") (Solo funciona en python 2)\n",
    "\n",
    "\n",
    "\n"
   ]
  },
  {
   "cell_type": "code",
   "execution_count": 1,
   "metadata": {},
   "outputs": [],
   "source": [
    "x=1"
   ]
  },
  {
   "cell_type": "code",
   "execution_count": 2,
   "metadata": {},
   "outputs": [],
   "source": [
    "x=10+5\n",
    "y=12+5"
   ]
  },
  {
   "cell_type": "code",
   "execution_count": null,
   "metadata": {},
   "outputs": [],
   "source": []
  }
 ],
 "metadata": {
  "kernelspec": {
   "display_name": "Python 3",
   "language": "python",
   "name": "python3"
  },
  "language_info": {
   "codemirror_mode": {
    "name": "ipython",
    "version": 3
   },
   "file_extension": ".py",
   "mimetype": "text/x-python",
   "name": "python",
   "nbconvert_exporter": "python",
   "pygments_lexer": "ipython3",
   "version": "3.10.10"
  },
  "orig_nbformat": 4,
  "vscode": {
   "interpreter": {
    "hash": "c013a5ced89948058f083ff8f14537b7889448cc2ce05a1f0b96cfb45cff96a7"
   }
  }
 },
 "nbformat": 4,
 "nbformat_minor": 2
}
